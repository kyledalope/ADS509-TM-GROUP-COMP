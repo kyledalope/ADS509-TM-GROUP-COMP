{
 "cells": [
  {
   "attachments": {},
   "cell_type": "markdown",
   "id": "058c3f98",
   "metadata": {},
   "source": [
    "# Kyle Dalope\n"
   ]
  },
  {
   "cell_type": "markdown",
   "id": "f3e39063",
   "metadata": {},
   "source": [
    "# ADS 509 Module 3: Group Comparison \n",
    "\n",
    "The task of comparing two groups of text is fundamental to textual analysis. There are innumerable applications: survey respondents from different segments of customers, speeches by different political parties, words used in Tweets by different constituencies, etc. In this assignment you will build code to effect comparisons between groups of text data, using the ideas learned in reading and lecture.\n",
    "\n",
    "This assignment asks you to analyze the lyrics and Twitter descriptions for the two artists you selected in Module 1. If the results from that pull were not to your liking, you are welcome to use the zipped data from the “Assignment Materials” section. Specifically, you are asked to do the following: \n",
    "\n",
    "* Read in the data, normalize the text, and tokenize it. When you tokenize your Twitter descriptions, keep hashtags and emojis in your token set. \n",
    "* Calculate descriptive statistics on the two sets of lyrics and compare the results. \n",
    "* For each of the four corpora, find the words that are unique to that corpus. \n",
    "* Build word clouds for all four corpora. \n",
    "\n",
    "Each one of the analyses has a section dedicated to it below. Before beginning the analysis there is a section for you to read in the data and do your cleaning (tokenization and normalization). \n"
   ]
  },
  {
   "cell_type": "markdown",
   "id": "c6e65f73",
   "metadata": {},
   "source": [
    "## General Assignment Instructions\n",
    "\n",
    "These instructions are included in every assignment, to remind you of the coding standards for the class. Feel free to delete this cell after reading it. \n",
    "\n",
    "One sign of mature code is conforming to a style guide. We recommend the [Google Python Style Guide](https://google.github.io/styleguide/pyguide.html). If you use a different style guide, please include a cell with a link. \n",
    "\n",
    "Your code should be relatively easy-to-read, sensibly commented, and clean. Writing code is a messy process, so please be sure to edit your final submission. Remove any cells that are not needed or parts of cells that contain unnecessary code. Remove inessential `import` statements and make sure that all such statements are moved into the designated cell. \n",
    "\n",
    "Make use of non-code cells for written commentary. These cells should be grammatical and clearly written. In some of these cells you will have questions to answer. The questions will be marked by a \"Q:\" and will have a corresponding \"A:\" spot for you. *Make sure to answer every question marked with a `Q:` for full credit.* \n"
   ]
  },
  {
   "cell_type": "code",
   "execution_count": 2,
   "id": "abe420bf",
   "metadata": {},
   "outputs": [],
   "source": [
    "import os\n",
    "import re\n",
    "import emoji\n",
    "import pandas as pd\n",
    "\n",
    "from collections import Counter, defaultdict\n",
    "from nltk.corpus import stopwords\n",
    "from string import punctuation\n",
    "from wordcloud import WordCloud \n",
    "\n",
    "from sklearn.feature_extraction.text import TfidfTransformer, CountVectorizer\n"
   ]
  },
  {
   "cell_type": "code",
   "execution_count": 3,
   "id": "a9f064bf",
   "metadata": {},
   "outputs": [],
   "source": [
    "# Use this space for any additional import statements you need\n"
   ]
  },
  {
   "cell_type": "code",
   "execution_count": 4,
   "id": "bcbe6342",
   "metadata": {},
   "outputs": [],
   "source": [
    "# Place any addtional functions or constants you need here. \n",
    "\n",
    "# Some punctuation variations\n",
    "punctuation = set(punctuation) # speeds up comparison\n",
    "tw_punct = punctuation - {\"#\"}\n",
    "\n",
    "# Stopwords\n",
    "sw = stopwords.words(\"english\")\n",
    "\n",
    "# Two useful regex\n",
    "whitespace_pattern = re.compile(r\"\\s+\")\n",
    "hashtag_pattern = re.compile(r\"^#[0-9a-zA-Z]+\")\n",
    "\n",
    "# It's handy to have a full set of emojis\n",
    "all_language_emojis = set()\n",
    "\n",
    "for country in emoji.EMOJI_DATA : \n",
    "    for em in emoji.EMOJI_DATA[country] : \n",
    "        all_language_emojis.add(em)\n",
    "\n",
    "# and now our functions\n",
    "def descriptive_stats(tokens, num_tokens = 5, verbose=True) :\n",
    "    \"\"\"\n",
    "        Given a list of tokens, print number of tokens, number of unique tokens, \n",
    "        number of characters, lexical diversity, and num_tokens most common\n",
    "        tokens. Return a list of \n",
    "    \"\"\"\n",
    "\n",
    "    # Place your Module 2 solution here\n",
    "    num_unique_tokens = (len(set(tokens)))\n",
    "    lexical_diversity = (num_unique_tokens / num_tokens) #ratio of different unique word stems (types) to the tota\n",
    "    num_characters = sum(len(token) for token in tokens) #length of the string of tokens\n",
    "    \n",
    "    if verbose :\n",
    "        print(f\"There are {num_tokens} tokens in the data.\")\n",
    "        print(f\"There are {num_unique_tokens} unique tokens in the data.\")\n",
    "        print(f\"There are {num_characters} characters in the data.\")\n",
    "        print(f\"The lexical diversity is {lexical_diversity:.3f} in the data.\")\n",
    "        \n",
    "        # print the five most common tokens\n",
    "        print(Counter(tokens).most_common(5)) #p. 16 of textbook\n",
    "    \n",
    "    return(0)\n",
    "\n",
    "\n",
    "    \n",
    "def contains_emoji(s):\n",
    "    \n",
    "    s = str(s)\n",
    "    emojis = [ch for ch in s if emoji.is_emoji(ch)]\n",
    "\n",
    "    return(len(emojis) > 0)\n",
    "\n",
    "\n",
    "def remove_stop(tokens) :\n",
    "    # modify this function to remove stopwords\n",
    "    return(token for token in tokens if token.lower() not in sw)\n",
    " \n",
    "def remove_punctuation(text, punct_set=tw_punct) : \n",
    "    return(\"\".join([ch for ch in text if ch not in punct_set]))\n",
    "\n",
    "def tokenize(text) : \n",
    "    \"\"\" Splitting on whitespace rather than the book's tokenize function. That \n",
    "        function will drop tokens like '#hashtag' or '2A', which we need for Twitter. \"\"\"\n",
    "    \n",
    "    # modify this function to return tokens\n",
    "    return(text.split())\n",
    "\n",
    "def prepare(text, pipeline) : \n",
    "    tokens = str(text)\n",
    "    \n",
    "    for transform in pipeline : \n",
    "        tokens = transform(tokens)\n",
    "        \n",
    "    return(tokens)\n"
   ]
  },
  {
   "cell_type": "markdown",
   "id": "47735524",
   "metadata": {},
   "source": [
    "## Data Ingestion\n",
    "\n",
    "Use this section to ingest your data into the data structures you plan to use. Typically this will be a dictionary or a pandas DataFrame."
   ]
  },
  {
   "cell_type": "code",
   "execution_count": 5,
   "id": "ff88201f",
   "metadata": {},
   "outputs": [],
   "source": [
    "# Feel free to use the below cells as an example or read in the data in a way you prefer\n",
    "\n",
    "data_location = \"/Users/kyledalope/Downloads/M1 Results/\"\n",
    "twitter_folder = \"twitter/\"\n",
    "lyrics_folder = os.path.join(data_location, \"lyrics/\")\n",
    "\n",
    "\n",
    "artist_files = {'cher':'cher_followers_data.txt',\n",
    "                'robyn':'robynkonichiwa_followers_data.txt'}\n"
   ]
  },
  {
   "cell_type": "code",
   "execution_count": 6,
   "id": "df415d65",
   "metadata": {},
   "outputs": [],
   "source": [
    "twitter_data = pd.read_csv(data_location + twitter_folder + artist_files['cher'],\n",
    "                           sep=\"\\t\",\n",
    "                           quoting=3)\n",
    "\n",
    "twitter_data['artist'] = \"cher\""
   ]
  },
  {
   "cell_type": "code",
   "execution_count": 7,
   "id": "966804cb",
   "metadata": {},
   "outputs": [],
   "source": [
    "twitter_data_2 = pd.read_csv(data_location + twitter_folder + artist_files['robyn'],\n",
    "                             sep=\"\\t\",\n",
    "                             quoting=3)\n",
    "twitter_data_2['artist'] = \"robyn\"\n",
    "\n",
    "twitter_data = pd.concat([\n",
    "    twitter_data,twitter_data_2])\n",
    "    \n",
    "del(twitter_data_2)"
   ]
  },
  {
   "cell_type": "code",
   "execution_count": 8,
   "id": "674767d3",
   "metadata": {},
   "outputs": [],
   "source": [
    "# read in the lyrics here (for loops from Module 2 Assignmetn)\n",
    "\n",
    "lyrics = {}\n",
    "\n",
    "# For loop to the artist subfolders\n",
    "for artist_sub in os.listdir(lyrics_folder):\n",
    "    artist_path = os.path.join(lyrics_folder, artist_sub)\n",
    "    if os.path.isdir(artist_path):\n",
    "        lyrics[artist_sub] = {}\n",
    "\n",
    "        # For loop to the songs for each artist subfolder\n",
    "        for song in os.listdir(artist_path):\n",
    "            song_path = os.path.join(artist_path, song)\n",
    "            if os.path.isfile(song_path):\n",
    "                with open(song_path, 'r') as file:\n",
    "                    lyrics_content = file.read()\n",
    "                    lyrics[artist_sub][song] = lyrics_content\n",
    "\n",
    "# Create a dataframe from the lyrics dictionary\n",
    "lyrics_data = pd.DataFrame([(artist, song, lyrics[artist][song]) for artist in lyrics for song in lyrics[artist]],\n",
    "                           columns=['artist', 'song', 'lyrics_content'])"
   ]
  },
  {
   "cell_type": "markdown",
   "id": "f9892d14",
   "metadata": {},
   "source": [
    "## Tokenization and Normalization\n",
    "\n",
    "In this next section, tokenize and normalize your data. We recommend the following cleaning. \n",
    "\n",
    "**Lyrics** \n",
    "\n",
    "* Remove song titles\n",
    "* Casefold to lowercase\n",
    "* Remove stopwords (optional)\n",
    "* Remove punctuation\n",
    "* Split on whitespace\n",
    "\n",
    "Removal of stopwords is up to you. Your descriptive statistic comparison will be different if you include stopwords, though TF-IDF should still find interesting features for you. Note that we remove stopwords before removing punctuation because the stopword set includes punctuation.\n",
    "\n",
    "**Twitter Descriptions** \n",
    "\n",
    "* Casefold to lowercase\n",
    "* Remove stopwords\n",
    "* Remove punctuation other than emojis or hashtags\n",
    "* Split on whitespace\n",
    "\n",
    "Removing stopwords seems sensible for the Twitter description data. Remember to leave in emojis and hashtags, since you analyze those. "
   ]
  },
  {
   "cell_type": "code",
   "execution_count": 9,
   "id": "70e0683a",
   "metadata": {},
   "outputs": [
    {
     "data": {
      "text/plain": [
       "Index(['artist', 'song', 'lyrics_content'], dtype='object')"
      ]
     },
     "execution_count": 9,
     "metadata": {},
     "output_type": "execute_result"
    }
   ],
   "source": [
    "#Check column names for lyrics dataframe\n",
    "lyrics_data.columns"
   ]
  },
  {
   "cell_type": "code",
   "execution_count": 10,
   "id": "5ca379eb",
   "metadata": {},
   "outputs": [],
   "source": [
    "# apply the `pipeline` techniques from BTAP Ch 1 or 5\n",
    "\n",
    "my_pipeline = [str.lower, remove_punctuation, tokenize, remove_stop]\n",
    "\n",
    "lyrics_data[\"tokens\"] = lyrics_data[\"lyrics_content\"].apply(prepare,pipeline=my_pipeline).apply(list)\n",
    "lyrics_data[\"num_tokens\"] = lyrics_data[\"tokens\"].apply(len) \n",
    "\n",
    "twitter_data[\"tokens\"] = twitter_data[\"description\"].apply(prepare,pipeline=my_pipeline).apply(list)\n",
    "twitter_data[\"num_tokens\"] = twitter_data[\"tokens\"].apply(len) \n"
   ]
  },
  {
   "cell_type": "code",
   "execution_count": 11,
   "id": "6cf534be",
   "metadata": {},
   "outputs": [],
   "source": [
    "twitter_data['has_emoji'] = twitter_data[\"description\"].apply(contains_emoji)"
   ]
  },
  {
   "cell_type": "markdown",
   "id": "7ec69ac9",
   "metadata": {},
   "source": [
    "Let's take a quick look at some descriptions with emojis."
   ]
  },
  {
   "cell_type": "code",
   "execution_count": 12,
   "id": "0a5a0512",
   "metadata": {},
   "outputs": [
    {
     "data": {
      "text/html": [
       "<div>\n",
       "<style scoped>\n",
       "    .dataframe tbody tr th:only-of-type {\n",
       "        vertical-align: middle;\n",
       "    }\n",
       "\n",
       "    .dataframe tbody tr th {\n",
       "        vertical-align: top;\n",
       "    }\n",
       "\n",
       "    .dataframe thead th {\n",
       "        text-align: right;\n",
       "    }\n",
       "</style>\n",
       "<table border=\"1\" class=\"dataframe\">\n",
       "  <thead>\n",
       "    <tr style=\"text-align: right;\">\n",
       "      <th></th>\n",
       "      <th>artist</th>\n",
       "      <th>description</th>\n",
       "      <th>tokens</th>\n",
       "    </tr>\n",
       "  </thead>\n",
       "  <tbody>\n",
       "    <tr>\n",
       "      <th>1021402</th>\n",
       "      <td>cher</td>\n",
       "      <td>how bout or nah •21 | ♌️ | he/him | 🏳️‍🌈•</td>\n",
       "      <td>[bout, nah, •21, ♌️, hehim, 🏳️‍🌈•]</td>\n",
       "    </tr>\n",
       "    <tr>\n",
       "      <th>2358119</th>\n",
       "      <td>cher</td>\n",
       "      <td>In love with drawing ✌️</td>\n",
       "      <td>[love, drawing, ✌️]</td>\n",
       "    </tr>\n",
       "    <tr>\n",
       "      <th>3540507</th>\n",
       "      <td>cher</td>\n",
       "      <td>If you're reading this, you're beautiful and e...</td>\n",
       "      <td>[youre, reading, youre, beautiful, everything,...</td>\n",
       "    </tr>\n",
       "    <tr>\n",
       "      <th>2281936</th>\n",
       "      <td>cher</td>\n",
       "      <td>Providing the highest standard in promotional ...</td>\n",
       "      <td>[providing, highest, standard, promotional, ev...</td>\n",
       "    </tr>\n",
       "    <tr>\n",
       "      <th>3858239</th>\n",
       "      <td>cher</td>\n",
       "      <td>☮️</td>\n",
       "      <td>[☮️]</td>\n",
       "    </tr>\n",
       "    <tr>\n",
       "      <th>1001052</th>\n",
       "      <td>cher</td>\n",
       "      <td>🇨🇦 🎨 (the chipmunk's my work); once an avid ch...</td>\n",
       "      <td>[🇨🇦, 🎨, chipmunks, work, avid, chessplayer, wi...</td>\n",
       "    </tr>\n",
       "    <tr>\n",
       "      <th>187970</th>\n",
       "      <td>cher</td>\n",
       "      <td>my golden hour fades black | ♌️♎️</td>\n",
       "      <td>[golden, hour, fades, black, ♌️♎️]</td>\n",
       "    </tr>\n",
       "    <tr>\n",
       "      <th>2895191</th>\n",
       "      <td>cher</td>\n",
       "      <td>im so proud of @JessieJ 15/3/13 , she's my all...</td>\n",
       "      <td>[im, proud, jessiej, 15313, shes, ❤, dream, je...</td>\n",
       "    </tr>\n",
       "    <tr>\n",
       "      <th>2540910</th>\n",
       "      <td>cher</td>\n",
       "      <td>Pixel Explorer // Nature Lover // Dog Dad // H...</td>\n",
       "      <td>[pixel, explorer, nature, lover, dog, dad, hea...</td>\n",
       "    </tr>\n",
       "    <tr>\n",
       "      <th>1270464</th>\n",
       "      <td>cher</td>\n",
       "      <td>Longtime progressive, old lady, book hoarder, ...</td>\n",
       "      <td>[longtime, progressive, old, lady, book, hoard...</td>\n",
       "    </tr>\n",
       "  </tbody>\n",
       "</table>\n",
       "</div>"
      ],
      "text/plain": [
       "        artist                                        description  \\\n",
       "1021402   cher          how bout or nah •21 | ♌️ | he/him | 🏳️‍🌈•   \n",
       "2358119   cher                            In love with drawing ✌️   \n",
       "3540507   cher  If you're reading this, you're beautiful and e...   \n",
       "2281936   cher  Providing the highest standard in promotional ...   \n",
       "3858239   cher                                                 ☮️   \n",
       "1001052   cher  🇨🇦 🎨 (the chipmunk's my work); once an avid ch...   \n",
       "187970    cher                  my golden hour fades black | ♌️♎️   \n",
       "2895191   cher  im so proud of @JessieJ 15/3/13 , she's my all...   \n",
       "2540910   cher  Pixel Explorer // Nature Lover // Dog Dad // H...   \n",
       "1270464   cher  Longtime progressive, old lady, book hoarder, ...   \n",
       "\n",
       "                                                    tokens  \n",
       "1021402                 [bout, nah, •21, ♌️, hehim, 🏳️‍🌈•]  \n",
       "2358119                                [love, drawing, ✌️]  \n",
       "3540507  [youre, reading, youre, beautiful, everything,...  \n",
       "2281936  [providing, highest, standard, promotional, ev...  \n",
       "3858239                                               [☮️]  \n",
       "1001052  [🇨🇦, 🎨, chipmunks, work, avid, chessplayer, wi...  \n",
       "187970                  [golden, hour, fades, black, ♌️♎️]  \n",
       "2895191  [im, proud, jessiej, 15313, shes, ❤, dream, je...  \n",
       "2540910  [pixel, explorer, nature, lover, dog, dad, hea...  \n",
       "1270464  [longtime, progressive, old, lady, book, hoard...  "
      ]
     },
     "execution_count": 12,
     "metadata": {},
     "output_type": "execute_result"
    }
   ],
   "source": [
    "twitter_data[twitter_data.has_emoji].sample(10)[[\"artist\",\"description\",\"tokens\"]]"
   ]
  },
  {
   "attachments": {},
   "cell_type": "markdown",
   "id": "4b2c55c9",
   "metadata": {},
   "source": [
    "With the data processed, we can now start work on the assignment questions. \n",
    "\n",
    "Q: What is one area of improvement to your tokenization that you could theoretically carry out? (No need to actually do it; let's not make perfect the enemy of good enough.)\n",
    "\n",
    "A: An area of improvement for the tokenization I could theoretically carry out would include a more customized stopword removal as that was optional. This would aid to eliminate generic stopwords that would improve the relevance of the tokens by customizing the list for analysis once the goal(s) were determined initially.\n",
    "\n",
    "sw = stopwords.words(\"english\")"
   ]
  },
  {
   "cell_type": "markdown",
   "id": "a1594271",
   "metadata": {},
   "source": [
    "## Calculate descriptive statistics on the two sets of lyrics and compare the results. \n"
   ]
  },
  {
   "cell_type": "code",
   "execution_count": 13,
   "id": "dc25e937",
   "metadata": {},
   "outputs": [
    {
     "name": "stdout",
     "output_type": "stream",
     "text": [
      "There are 5 tokens in the data.\n",
      "There are 3703 unique tokens in the data.\n",
      "There are 172634 characters in the data.\n",
      "The lexical diversity is 740.600 in the data.\n",
      "[('love', 1004), ('im', 513), ('know', 486), ('dont', 440), ('youre', 333)]\n",
      "There are 5 tokens in the data.\n",
      "There are 2156 unique tokens in the data.\n",
      "There are 73787 characters in the data.\n",
      "The lexical diversity is 431.200 in the data.\n",
      "[('know', 308), ('dont', 301), ('im', 299), ('love', 275), ('got', 251)]\n"
     ]
    }
   ],
   "source": [
    "# Descriptive Stats on the lyrics_data between cher and robyn (pulled from Module 2 assignment)\n",
    "\n",
    "# Descriptive stats on lyrics data for cher\n",
    "cher_lyrics_ds = descriptive_stats([token for song in lyrics_data[lyrics_data['artist'] == 'cher']['tokens'] for token in song])\n",
    "\n",
    "# Descriptive stats on lyrics data for robyn\n",
    "robyn_lyrics_ds = descriptive_stats([token for song in lyrics_data[lyrics_data['artist'] == 'robyn']['tokens'] for token in song])"
   ]
  },
  {
   "attachments": {},
   "cell_type": "markdown",
   "id": "67a2ada9",
   "metadata": {},
   "source": [
    "Q: what observations do you make about these data? \n",
    "\n",
    "A: With the lyrics data and observing between the two artists, cher and robyn, I observe that they both have the same number of tokens which is 5. But from there, I can distinctly notice cher contained a higher numer of unique tokens and lexical diversity; leading to a more wider variety range of vocabulary than robyn's lyrics. I did include the top five words for each and 'love' is cher's number one, while 'know' is robyn's number one. \n"
   ]
  },
  {
   "cell_type": "markdown",
   "id": "750aa526",
   "metadata": {},
   "source": [
    "## Find tokens uniquely related to a corpus\n",
    "\n",
    "Typically we would use TF-IDF to find unique tokens in documents. Unfortunately, we either have too few documents (if we view each data source as a single document) or too many (if we view each description as a separate document). In the latter case, our problem will be that descriptions tend to be short, so our matrix would be too sparse to support analysis. \n",
    "\n",
    "To avoid these problems, we will create a custom statistic to identify words that are uniquely related to each corpus. The idea is to find words that occur often in one corpus and infrequently in the other(s). Since corpora can be of different lengths, we will focus on the _concentration_ of tokens within a corpus. \"Concentration\" is simply the count of the token divided by the total corpus length. For instance, if a corpus had length 100,000 and a word appeared 1,000 times, then the concentration would be $\\frac{1000}{100000} = 0.01$. If the same token had a concentration of $0.005$ in another corpus, then the concentration ratio would be $\\frac{0.01}{0.005} = 2$. Very rare words can easily create infinite ratios, so you will also add a cutoff to your code so that a token must appear at least $n$ times for you to return it. \n",
    "\n",
    "An example of these calculations can be found in [this spreadsheet](https://docs.google.com/spreadsheets/d/1P87fkyslJhqXFnfYezNYrDrXp_GS8gwSATsZymv-9ms). Please don't hesitate to ask questions if this is confusing. \n",
    "\n",
    "In this section find 10 tokens for each of your four corpora that meet the following criteria: \n",
    "\n",
    "1. The token appears at least `n` times in all corpora\n",
    "1. The tokens are in the top 10 for the highest ratio of appearances in a given corpora vs appearances in other corpora.\n",
    "\n",
    "You will choose a cutoff for yourself based on the side of the corpus you're working with. If you're working with the Robyn-Cher corpora provided, `n=5` seems to perform reasonably well."
   ]
  },
  {
   "cell_type": "code",
   "execution_count": 16,
   "id": "8917b417",
   "metadata": {},
   "outputs": [],
   "source": [
    "def get_word_frac(word, fd_corpus, length):\n",
    "\n",
    "    if word in fd_corpus:\n",
    "        return(fd_corpus[word]/length)\n",
    "    else:\n",
    "        return(0)\n",
    "    \n",
    "def get_ratio(word, fd_corpus_1, fd_corpus_2, len_1, len_2):\n",
    "    frac_1 = get_word_frac(word, fd_corpus_1, len_1)\n",
    "    frac_2 = get_word_frac(word, fd_corpus_2, len_2)\n",
    "\n",
    "    if frac_2 > 0:\n",
    "        return(frac_1/frac_2)\n",
    "    else:\n",
    "        return(float('NaN'))"
   ]
  },
  {
   "cell_type": "code",
   "execution_count": 17,
   "id": "ce72f0a0",
   "metadata": {},
   "outputs": [],
   "source": [
    "def compare_texts(corpus_1, corpus_2, num_words = 10, ratio_cutoff=5):\n",
    "\n",
    "    results = dict()\n",
    "\n",
    "    #Get first part with a function\n",
    "    results[\"one\"] = get_patterns(corpus_1, num_words)\n",
    "    results[\"two\"] = get_patterns(corpus_2, num_words)\n",
    "\n",
    "    #Ratio and frequency dist\n",
    "    corpus_1 = token_normal(corpus_1)\n",
    "    corpus_2 = token_normal(corpus_2)\n",
    "\n",
    "    fd_1 = FreqDist(corpus_1)\n",
    "    fd_2 = FreqDist(corpus_2)\n",
    "\n",
    "    #Set of words in each corpus\n",
    "    fd_1_words = set(fd_1.keys())\n",
    "    fd_2_words = set(fd_2.keys())\n",
    "\n",
    "    #Hold the ratios \n",
    "    holder = dict()\n",
    "\n",
    "    #diciontary for results\n",
    "    results[\"one_vs_two\"] = dict()\n",
    "    results[\"two_vs_one\"] = dict()\n",
    "\n",
    "    for word, count in fd_1.items():\n",
    "        if count > ratio_cutoff:\n",
    "            if word in fd_2_words and fd_2[word] > ratio_cutoff:\n",
    "                holder[word] = get_ratio(word, fd_1, fd_2,\n",
    "                                         results[\"one\"][\"tokens\"],\n",
    "                                         results[\"two\"][\"tokens\"])\n",
    "    \n",
    "    num_added = 0 \n",
    "\n",
    "    for word, frac in sorted(holder.items(), key=lambda item: -1*item[1]):\n",
    "        results[\"one_vs_two\"][word] = frac\n",
    "        num_added += 1\n",
    "        if num_added == num_words:\n",
    "            break\n",
    "\n",
    "    return(results)"
   ]
  },
  {
   "cell_type": "code",
   "execution_count": 19,
   "id": "e65a7554",
   "metadata": {},
   "outputs": [
    {
     "ename": "NameError",
     "evalue": "name 'get_patterns' is not defined",
     "output_type": "error",
     "traceback": [
      "\u001b[0;31m---------------------------------------------------------------------------\u001b[0m",
      "\u001b[0;31mNameError\u001b[0m                                 Traceback (most recent call last)",
      "Cell \u001b[0;32mIn[19], line 1\u001b[0m\n\u001b[0;32m----> 1\u001b[0m compare_texts(\u001b[39m\"\u001b[39;49m\u001b[39m \u001b[39;49m\u001b[39m\"\u001b[39;49m\u001b[39m.\u001b[39;49mjoin(lyrics_data),\u001b[39m\"\u001b[39;49m\u001b[39m \u001b[39;49m\u001b[39m\"\u001b[39;49m\u001b[39m.\u001b[39;49mjoin(twitter_data), num_words\u001b[39m=\u001b[39;49m\u001b[39m5\u001b[39;49m)\n",
      "Cell \u001b[0;32mIn[17], line 6\u001b[0m, in \u001b[0;36mcompare_texts\u001b[0;34m(corpus_1, corpus_2, num_words, ratio_cutoff)\u001b[0m\n\u001b[1;32m      3\u001b[0m results \u001b[39m=\u001b[39m \u001b[39mdict\u001b[39m()\n\u001b[1;32m      5\u001b[0m \u001b[39m#Get first part with a function\u001b[39;00m\n\u001b[0;32m----> 6\u001b[0m results[\u001b[39m\"\u001b[39m\u001b[39mone\u001b[39m\u001b[39m\"\u001b[39m] \u001b[39m=\u001b[39m get_patterns(corpus_1, num_words)\n\u001b[1;32m      7\u001b[0m results[\u001b[39m\"\u001b[39m\u001b[39mtwo\u001b[39m\u001b[39m\"\u001b[39m] \u001b[39m=\u001b[39m get_patterns(corpus_2, num_words)\n\u001b[1;32m      9\u001b[0m \u001b[39m#Ratio and frequency dist\u001b[39;00m\n",
      "\u001b[0;31mNameError\u001b[0m: name 'get_patterns' is not defined"
     ]
    }
   ],
   "source": [
    "compare_texts(\" \".join(lyrics_data),\" \".join(twitter_data), num_words=5)"
   ]
  },
  {
   "cell_type": "markdown",
   "id": "53526fcd",
   "metadata": {},
   "source": [
    "Q: What are some observations about the top tokens? Do you notice any interesting items on the list? \n",
    "\n",
    "A: "
   ]
  },
  {
   "cell_type": "markdown",
   "id": "9f4f52b3",
   "metadata": {},
   "source": [
    "## Build word clouds for all four corpora. \n",
    "\n",
    "For building wordclouds, we'll follow exactly the code of the text. The code in this section can be found [here](https://github.com/blueprints-for-text-analytics-python/blueprints-text/blob/master/ch01/First_Insights.ipynb). If you haven't already, you should absolutely clone the repository that accompanies the book. \n"
   ]
  },
  {
   "cell_type": "code",
   "execution_count": 20,
   "id": "786b2af3",
   "metadata": {},
   "outputs": [],
   "source": [
    "from matplotlib import pyplot as plt\n",
    "\n",
    "def wordcloud(word_freq, title=None, max_words=200, stopwords=None):\n",
    "\n",
    "    wc = WordCloud(width=800, height=400, \n",
    "                   background_color= \"black\", colormap=\"Paired\", \n",
    "                   max_font_size=150, max_words=max_words)\n",
    "    \n",
    "    # convert data frame into dict\n",
    "    if type(word_freq) == pd.Series:\n",
    "        counter = Counter(word_freq.fillna(0).to_dict())\n",
    "    else:\n",
    "        counter = word_freq\n",
    "\n",
    "    # filter stop words in frequency counter\n",
    "    if stopwords is not None:\n",
    "        counter = {token:freq for (token, freq) in counter.items() \n",
    "                              if token not in stopwords}\n",
    "    wc.generate_from_frequencies(counter)\n",
    " \n",
    "    plt.title(title) \n",
    "\n",
    "    plt.imshow(wc, interpolation='bilinear')\n",
    "    plt.axis(\"off\")\n",
    "    \n",
    "    \n",
    "def count_words(df, column='tokens', preprocess=None, min_freq=2):\n",
    "\n",
    "    # process tokens and update counter\n",
    "    def update(doc):\n",
    "        tokens = doc if preprocess is None else preprocess(doc)\n",
    "        counter.update(tokens)\n",
    "\n",
    "    # create counter and run through all data\n",
    "    counter = Counter()\n",
    "    df[column].map(update)\n",
    "\n",
    "    # transform counter into data frame\n",
    "    freq_df = pd.DataFrame.from_dict(counter, orient='index', columns=['freq'])\n",
    "    freq_df = freq_df.query('freq >= @min_freq')\n",
    "    freq_df.index.name = 'token'\n",
    "    \n",
    "    return freq_df.sort_values('freq', ascending=False)"
   ]
  },
  {
   "attachments": {},
   "cell_type": "markdown",
   "id": "b11a2e53",
   "metadata": {},
   "source": [
    "Q: What observations do you have about these (relatively straightforward) wordclouds? \n",
    "\n",
    "A: After running the code chunk for wordcloud and was not able to return the results to make the observations."
   ]
  },
  {
   "attachments": {},
   "cell_type": "markdown",
   "id": "07f2ae26",
   "metadata": {},
   "source": [
    "# References\n",
    "\n",
    "pandas.Series.apply — pandas 2.0.2 documentation. (n.d.). Pandas.pydata.org. Retrieved May 30, 2023, from https://pandas.pydata.org/pandas-docs/stable/reference/api/pandas.Series.apply.html\n",
    "\n",
    "‌Pandas Apply Tutorial for Python DataFrames. (n.d.). Www.datacamp.com. https://www.datacamp.com/tutorial/pandas-apply\n",
    "\n",
    "Albrecht, J., Ramachandran, S., & Winkler, C. (2020). Blueprints for text analytics using Python. O'Reilly.\n",
    "‌"
   ]
  }
 ],
 "metadata": {
  "kernelspec": {
   "display_name": "Python 3",
   "language": "python",
   "name": "python3"
  },
  "language_info": {
   "codemirror_mode": {
    "name": "ipython",
    "version": 3
   },
   "file_extension": ".py",
   "mimetype": "text/x-python",
   "name": "python",
   "nbconvert_exporter": "python",
   "pygments_lexer": "ipython3",
   "version": "3.11.1"
  },
  "vscode": {
   "interpreter": {
    "hash": "aee8b7b246df8f9039afb4144a1f6fd8d2ca17a180786b69acc140d282b71a49"
   }
  }
 },
 "nbformat": 4,
 "nbformat_minor": 5
}
